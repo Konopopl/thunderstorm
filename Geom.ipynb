{
 "cells": [
  {
   "cell_type": "code",
   "execution_count": 1,
   "metadata": {},
   "outputs": [],
   "source": [
    "import numpy as np \n",
    "import random   \n",
    "import math \n",
    "\n",
    "#Energy0=100 #Mev \n",
    "#voltage= 0.0013 #Mev/cm\n",
    "#distance0=100000 #cm \n",
    "def MonteCarlo(Energy0,voltage,distance0,dt):# [Energy]=Mv,[Voltage]=(e-)*Mv/cm=Mv/cm,[distance0]=cm,[dt]=cm\n",
    "    hamma0=Energy0/0.511 \n",
    "    teta0=0.1661*(dt**0.5)/hamma0 \n",
    "    fi=random.uniform(0, 2*math.pi) \n",
    "\n",
    "    v1=[math.sin(teta0)*math.cos(fi),math.sin(teta0)*math.sin(fi),math.cos(teta0)] #если в нашу формулу подставить v0\n",
    "                                                                                   #вект. произв обнуляется \n",
    "    teta=teta0 \n",
    "    hamma=hamma0 \n",
    "    distance=distance0\n",
    "    v=v1 \n",
    "    Eneg=0.0022*dt \n",
    "    while True: \n",
    "        Epos=voltage*dt*np.dot([0,0,1],v) \n",
    "        \n",
    "        deltaE=(Epos-Eneg)/(0.511) \n",
    "        hamma=hamma+deltaE   \n",
    "        distance=distance-dt*np.dot([0,0,1],v) \n",
    "        if hamma<1: \n",
    "            s=0   \n",
    "            break \n",
    "\n",
    "        if distance<0: \n",
    "            s=1 \n",
    "            \n",
    "            break \n",
    "        teta=0.1661*(dt**0.5)/hamma \n",
    "        fi=random.uniform(0, 2*math.pi) \n",
    "        h=[math.sin(teta)*math.cos(fi),math.sin(teta)*math.sin(fi),math.cos(teta)]  \n",
    "        e3=v \n",
    "        e1=np.cross([0,0,1],e3) \n",
    "        e1=np.dot(1/((np.dot(e1, e1))**0.5), e1) \n",
    "        e2=np.cross(e1,e3) \n",
    "        e2=np.dot(1/((np.dot(e2, e2))**0.5), e2) \n",
    "        a=[e1,e2,e3]\n",
    "        v=np.dot(h,a)   \n",
    "        \n",
    "        \n",
    "    \n",
    "    return(s)\n",
    "  \n",
    "            "
   ]
  },
  {
   "cell_type": "code",
   "execution_count": 2,
   "metadata": {},
   "outputs": [
    {
     "name": "stdout",
     "output_type": "stream",
     "text": [
      "0.0\n"
     ]
    }
   ],
   "source": [
    "Energy0=100 #Mev \n",
    "voltage= 0.0012#Mev/cm\n",
    "distance0=100000 #cm  \n",
    "dt=10 #cm   \n",
    "def Probab(number): \n",
    "    success=0 \n",
    "    failure=0 \n",
    "    for i in range(0,number): \n",
    "        if MonteCarlo(Energy0,voltage,distance0,dt)==1 : \n",
    "            success+=1 \n",
    "    return(success/number)   \n",
    "print(Probab(10))"
   ]
  },
  {
   "cell_type": "code",
   "execution_count": 3,
   "metadata": {},
   "outputs": [],
   "source": [
    "import numpy as np\n",
    "import matplotlib.pyplot as plt\n",
    "from matplotlib import ticker\n",
    "def Graf(x,y): \n",
    "    fig, ax = plt.subplots() \n",
    "    ax.plot(y, x, 'ro', markersize=5)\n",
    "    \n",
    "    \n",
    "    \n",
    "    #  Устанавливаем интервал основных делений:\n",
    "    #ax.xaxis.set_major_locator(ticker.MultipleLocator(0.1))\n",
    "    #ax.xaxis.set_minor_locator(ticker.MultipleLocator(20))\n",
    "    \n",
    "    #ax.yaxis.set_major_locator(ticker.MultipleLocator(10))\n",
    "    #ax.yaxis.set_minor_locator(ticker.MultipleLocator(5))\n",
    "    #  Устанавливаем интервал вспомогательных делений:\n",
    "    #ax.xaxis.set_minor_locator(ticker.MultipleLocator(1))\n",
    "\n",
    "    #  Тоже самое проделываем с делениями на оси \"y\":\n",
    "    #ay.yaxis.set_major_locator(ticker.MultipleLocator(50))\n",
    "    #ax.yaxis.set_minor_locator(ticker.MultipleLocator(10))\n",
    "    \n",
    "    #пределы x,y \n",
    "    #plt.xlim(0,900)  \n",
    "    #fig.set_figwidth(30)\n",
    "    #fig.set_figheight(4.5)\n",
    "    ax.plot(y, x, color = 'r', linewidth = 3)\n",
    "    ax.minorticks_on()\n",
    "    ax.grid(which='major',color = 'k') #сутка\n",
    "    # ax.grid(which='minor', color = 'gray',linestyle = ':')\n",
    "    #plt.xlim([0, 1500])\n",
    "    #plt.ylim([0,1])\n",
    "    plt.show()"
   ]
  },
  {
   "cell_type": "raw",
   "metadata": {},
   "source": [
    " \n",
    "def polet(Energy0):\n",
    "    voltage= 0.0013 #Mev/cm\n",
    "    distance0=100000 #cm  \n",
    "    dt=10 #cm  \n",
    "    volt=[] \n",
    "    prob=[]\n",
    "    for i in range(0,15): \n",
    "        voltage=voltage+0.0002\n",
    "        volt=volt+[voltage]\n",
    "        prob=prob+[Probab(20)] \n",
    "    print(Energy0)\n",
    "    Graf(prob,volt)    "
   ]
  },
  {
   "cell_type": "code",
   "execution_count": null,
   "metadata": {},
   "outputs": [],
   "source": []
  },
  {
   "cell_type": "code",
   "execution_count": 4,
   "metadata": {},
   "outputs": [
    {
     "name": "stdout",
     "output_type": "stream",
     "text": [
      "[0.0, 0.0, 0.0, 0.0, 0.0, 0.0, 0.0, 0.0, 0.0006, 0.0022, 0.0021, 0.0068, 0.0085, 0.0129, 0.0195, 0.0258, 0.0327, 0.0442, 0.0582, 0.0721]\n",
      "[2.5500000000000003, 2.6000000000000005, 2.6500000000000004, 2.7000000000000006, 2.750000000000001, 2.8000000000000007, 2.850000000000001, 2.9000000000000012, 2.950000000000001, 3.0000000000000013, 3.0500000000000016, 3.1000000000000014, 3.1500000000000017, 3.200000000000002, 3.250000000000002, 3.300000000000002, 3.3500000000000023, 3.4000000000000026, 3.4500000000000024, 3.5000000000000027]\n"
     ]
    },
    {
     "data": {
      "image/png": "[encoded data removed]",
      "text/plain": [
       "<Figure size 432x288 with 1 Axes>"
      ]
     },
     "metadata": {
      "needs_background": "light"
     },
     "output_type": "display_data"
    }
   ],
   "source": [
    "Energy0=2 \n",
    "voltage=0.0025 \n",
    "distance0=100000 \n",
    "dt=10 \n",
    "volt=[] \n",
    "prob=[] \n",
    "for i in range(20): \n",
    "    voltage+=0.00005 \n",
    "    volt+=[voltage] \n",
    "    prob+=[Probab(10000)]\n",
    "print(prob) \n",
    "for i in range(len(volt)): \n",
    "    volt[i]*=1000\n",
    "print(volt) \n",
    "Graf(prob,volt)"
   ]
  },
  {
   "cell_type": "code",
   "execution_count": null,
   "metadata": {},
   "outputs": [],
   "source": []
  },
  {
   "cell_type": "code",
   "execution_count": 123,
   "metadata": {},
   "outputs": [
    {
     "name": "stdout",
     "output_type": "stream",
     "text": [
      "[0.0, 0.0, 0.0, 0.0, 0.0, 0.0, 0.0, 0.0, 0.0, 0.0, 0.0, 0.0, 0.0, 0.01, 0.0, 0.01, 0.04, 0.12, 0.07, 0.16, 0.25, 0.21, 0.33, 0.34, 0.36, 0.52, 0.49, 0.59, 0.61, 0.68, 0.62, 0.61, 0.69, 0.69, 0.74, 0.74, 0.77, 0.83, 0.8, 0.86]\n",
      "[1.6, 1.7000000000000002, 1.8000000000000003, 1.9000000000000001, 2.0, 2.1, 2.1999999999999997, 2.2999999999999994, 2.3999999999999995, 2.499999999999999, 2.599999999999999, 2.699999999999999, 2.7999999999999985, 2.8999999999999986, 2.9999999999999982, 3.0999999999999983, 3.199999999999998, 3.2999999999999976, 3.3999999999999977, 3.4999999999999973, 3.5999999999999974, 3.699999999999997, 3.799999999999997, 3.899999999999997, 3.9999999999999964, 4.099999999999997, 4.1999999999999975, 4.299999999999997, 4.399999999999998, 4.499999999999998, 4.599999999999998, 4.699999999999998, 4.799999999999999, 4.899999999999999, 4.999999999999999, 5.1, 5.2, 5.3, 5.4, 5.500000000000001]\n"
     ]
    },
    {
     "data": {
      "image/png": "[encoded data removed]",
      "text/plain": [
       "<Figure size 432x288 with 1 Axes>"
      ]
     },
     "metadata": {
      "needs_background": "light"
     },
     "output_type": "display_data"
    }
   ],
   "source": [
    "Energy0=3 \n",
    "voltage=0.0015 \n",
    "distance0=100000 \n",
    "dt=10 \n",
    "volt=[] \n",
    "prob=[] \n",
    "for i in range(40): \n",
    "    voltage+=0.0001 \n",
    "    volt+=[voltage] \n",
    "    prob+=[Probab(100)]\n",
    "print(prob) \n",
    "for i in range(len(volt)): \n",
    "    volt[i]*=1000\n",
    "print(volt) \n",
    "Graf(prob,volt)\n",
    "    "
   ]
  },
  {
   "cell_type": "code",
   "execution_count": null,
   "metadata": {},
   "outputs": [],
   "source": [
    "\n",
    "    \n",
    "    "
   ]
  },
  {
   "cell_type": "code",
   "execution_count": 124,
   "metadata": {},
   "outputs": [
    {
     "name": "stdout",
     "output_type": "stream",
     "text": [
      "[0.0, 0.0, 0.0, 0.0, 0.0, 0.0, 0.0, 0.0, 0.0, 0.0, 0.0, 0.0, 0.0, 0.01, 0.02, 0.03, 0.14, 0.2, 0.27, 0.31, 0.34, 0.41, 0.46, 0.49, 0.6, 0.59, 0.65, 0.63, 0.73, 0.68, 0.68, 0.81, 0.77, 0.69, 0.76, 0.77, 0.92, 0.89, 0.83, 0.83]\n",
      "[1.6, 1.7000000000000002, 1.8000000000000003, 1.9000000000000001, 2.0, 2.1, 2.1999999999999997, 2.2999999999999994, 2.3999999999999995, 2.499999999999999, 2.599999999999999, 2.699999999999999, 2.7999999999999985, 2.8999999999999986, 2.9999999999999982, 3.0999999999999983, 3.199999999999998, 3.2999999999999976, 3.3999999999999977, 3.4999999999999973, 3.5999999999999974, 3.699999999999997, 3.799999999999997, 3.899999999999997, 3.9999999999999964, 4.099999999999997, 4.1999999999999975, 4.299999999999997, 4.399999999999998, 4.499999999999998, 4.599999999999998, 4.699999999999998, 4.799999999999999, 4.899999999999999, 4.999999999999999, 5.1, 5.2, 5.3, 5.4, 5.500000000000001]\n"
     ]
    },
    {
     "data": {
      "image/png": "[encoded data removed]",
      "text/plain": [
       "<Figure size 432x288 with 1 Axes>"
      ]
     },
     "metadata": {
      "needs_background": "light"
     },
     "output_type": "display_data"
    }
   ],
   "source": [
    "Energy0=4 \n",
    "voltage=0.0015 \n",
    "distance0=100000 \n",
    "dt=10 \n",
    "volt=[] \n",
    "prob=[] \n",
    "for i in range(40): \n",
    "    voltage+=0.0001 \n",
    "    volt+=[voltage] \n",
    "    prob+=[Probab(100)]\n",
    "print(prob) \n",
    "for i in range(len(volt)): \n",
    "    volt[i]*=1000\n",
    "print(volt) \n",
    "Graf(prob,volt)\n",
    "    "
   ]
  },
  {
   "cell_type": "code",
   "execution_count": null,
   "metadata": {},
   "outputs": [],
   "source": [
    "    \n",
    "    "
   ]
  },
  {
   "cell_type": "code",
   "execution_count": 125,
   "metadata": {},
   "outputs": [
    {
     "name": "stdout",
     "output_type": "stream",
     "text": [
      "[0.0, 0.0, 0.0, 0.0, 0.0, 0.0, 0.0, 0.0, 0.0, 0.0, 0.0, 0.0, 0.03, 0.08, 0.13, 0.16, 0.2, 0.32, 0.39, 0.44, 0.61, 0.56, 0.55, 0.57, 0.65, 0.7, 0.76, 0.78, 0.85, 0.78, 0.84, 0.82, 0.84, 0.87, 0.93, 0.9, 0.85, 0.91, 0.89, 0.95]\n",
      "[1.6, 1.7000000000000002, 1.8000000000000003, 1.9000000000000001, 2.0, 2.1, 2.1999999999999997, 2.2999999999999994, 2.3999999999999995, 2.499999999999999, 2.599999999999999, 2.699999999999999, 2.7999999999999985, 2.8999999999999986, 2.9999999999999982, 3.0999999999999983, 3.199999999999998, 3.2999999999999976, 3.3999999999999977, 3.4999999999999973, 3.5999999999999974, 3.699999999999997, 3.799999999999997, 3.899999999999997, 3.9999999999999964, 4.099999999999997, 4.1999999999999975, 4.299999999999997, 4.399999999999998, 4.499999999999998, 4.599999999999998, 4.699999999999998, 4.799999999999999, 4.899999999999999, 4.999999999999999, 5.1, 5.2, 5.3, 5.4, 5.500000000000001]\n"
     ]
    },
    {
     "data": {
      "image/png": "[encoded data removed]",
      "text/plain": [
       "<Figure size 432x288 with 1 Axes>"
      ]
     },
     "metadata": {
      "needs_background": "light"
     },
     "output_type": "display_data"
    }
   ],
   "source": [
    "\n",
    "Energy0=5\n",
    "voltage=0.0015 \n",
    "distance0=100000 \n",
    "dt=10 \n",
    "volt=[] \n",
    "prob=[] \n",
    "for i in range(40): \n",
    "    voltage+=0.0001 \n",
    "    volt+=[voltage] \n",
    "    prob+=[Probab(100)]\n",
    "print(prob) \n",
    "for i in range(len(volt)): \n",
    "    volt[i]*=1000\n",
    "print(volt) \n",
    "Graf(prob,volt)"
   ]
  },
  {
   "cell_type": "code",
   "execution_count": 126,
   "metadata": {},
   "outputs": [
    {
     "name": "stdout",
     "output_type": "stream",
     "text": [
      "[0.0, 0.0, 0.0, 0.0, 0.0, 0.0, 0.0, 0.0, 0.0, 0.0, 0.01, 0.02, 0.06, 0.15, 0.17, 0.26, 0.42, 0.36, 0.44, 0.48, 0.58, 0.59, 0.69, 0.69, 0.64, 0.8, 0.84, 0.75, 0.86, 0.89, 0.88, 0.84, 0.92, 0.91, 0.86, 0.94, 0.93, 0.96, 0.98, 0.98]\n",
      "[1.6, 1.7000000000000002, 1.8000000000000003, 1.9000000000000001, 2.0, 2.1, 2.1999999999999997, 2.2999999999999994, 2.3999999999999995, 2.499999999999999, 2.599999999999999, 2.699999999999999, 2.7999999999999985, 2.8999999999999986, 2.9999999999999982, 3.0999999999999983, 3.199999999999998, 3.2999999999999976, 3.3999999999999977, 3.4999999999999973, 3.5999999999999974, 3.699999999999997, 3.799999999999997, 3.899999999999997, 3.9999999999999964, 4.099999999999997, 4.1999999999999975, 4.299999999999997, 4.399999999999998, 4.499999999999998, 4.599999999999998, 4.699999999999998, 4.799999999999999, 4.899999999999999, 4.999999999999999, 5.1, 5.2, 5.3, 5.4, 5.500000000000001]\n"
     ]
    },
    {
     "data": {
      "image/png": "[encoded data removed]",
      "text/plain": [
       "<Figure size 432x288 with 1 Axes>"
      ]
     },
     "metadata": {
      "needs_background": "light"
     },
     "output_type": "display_data"
    }
   ],
   "source": [
    "Energy0=6 \n",
    "voltage=0.0015 \n",
    "distance0=100000 \n",
    "dt=10 \n",
    "volt=[] \n",
    "prob=[] \n",
    "for i in range(40): \n",
    "    voltage+=0.0001 \n",
    "    volt+=[voltage] \n",
    "    prob+=[Probab(100)]\n",
    "print(prob) \n",
    "for i in range(len(volt)): \n",
    "    volt[i]*=1000\n",
    "print(volt) \n",
    "Graf(prob,volt)"
   ]
  },
  {
   "cell_type": "code",
   "execution_count": 127,
   "metadata": {},
   "outputs": [
    {
     "name": "stdout",
     "output_type": "stream",
     "text": [
      "[0.0, 0.0, 0.0, 0.0, 0.0, 0.0, 0.0, 0.0, 0.0, 0.0, 0.0, 0.03, 0.07, 0.18, 0.24, 0.37, 0.4, 0.44, 0.5, 0.63, 0.64, 0.64, 0.74, 0.82, 0.82, 0.84, 0.89, 0.9, 0.89, 0.9, 0.87, 0.94, 0.95, 0.97, 0.89, 0.93, 0.95, 0.97, 0.95, 0.98]\n",
      "[1.6, 1.7000000000000002, 1.8000000000000003, 1.9000000000000001, 2.0, 2.1, 2.1999999999999997, 2.2999999999999994, 2.3999999999999995, 2.499999999999999, 2.599999999999999, 2.699999999999999, 2.7999999999999985, 2.8999999999999986, 2.9999999999999982, 3.0999999999999983, 3.199999999999998, 3.2999999999999976, 3.3999999999999977, 3.4999999999999973, 3.5999999999999974, 3.699999999999997, 3.799999999999997, 3.899999999999997, 3.9999999999999964, 4.099999999999997, 4.1999999999999975, 4.299999999999997, 4.399999999999998, 4.499999999999998, 4.599999999999998, 4.699999999999998, 4.799999999999999, 4.899999999999999, 4.999999999999999, 5.1, 5.2, 5.3, 5.4, 5.500000000000001]\n"
     ]
    },
    {
     "data": {
      "image/png": "[encoded data removed]",
      "text/plain": [
       "<Figure size 432x288 with 1 Axes>"
      ]
     },
     "metadata": {
      "needs_background": "light"
     },
     "output_type": "display_data"
    }
   ],
   "source": [
    "Energy0=7 \n",
    "voltage=0.0015 \n",
    "distance0=100000 \n",
    "dt=10 \n",
    "volt=[] \n",
    "prob=[] \n",
    "for i in range(40): \n",
    "    voltage+=0.0001 \n",
    "    volt+=[voltage] \n",
    "    prob+=[Probab(100)]\n",
    "print(prob) \n",
    "for i in range(len(volt)): \n",
    "    volt[i]*=1000\n",
    "print(volt) \n",
    "Graf(prob,volt)"
   ]
  },
  {
   "cell_type": "code",
   "execution_count": 128,
   "metadata": {},
   "outputs": [
    {
     "name": "stdout",
     "output_type": "stream",
     "text": [
      "[0.0, 0.0, 0.0, 0.0, 0.0, 0.0, 0.0, 0.0, 0.0, 0.01, 0.01, 0.08, 0.19, 0.27, 0.31, 0.4, 0.45, 0.52, 0.66, 0.6, 0.73, 0.74, 0.77, 0.75, 0.81, 0.78, 0.89, 0.93, 0.95, 0.92, 0.96, 0.94, 0.98, 0.96, 0.97, 0.98, 0.95, 0.99, 1.0, 0.98]\n",
      "[1.6, 1.7000000000000002, 1.8000000000000003, 1.9000000000000001, 2.0, 2.1, 2.1999999999999997, 2.2999999999999994, 2.3999999999999995, 2.499999999999999, 2.599999999999999, 2.699999999999999, 2.7999999999999985, 2.8999999999999986, 2.9999999999999982, 3.0999999999999983, 3.199999999999998, 3.2999999999999976, 3.3999999999999977, 3.4999999999999973, 3.5999999999999974, 3.699999999999997, 3.799999999999997, 3.899999999999997, 3.9999999999999964, 4.099999999999997, 4.1999999999999975, 4.299999999999997, 4.399999999999998, 4.499999999999998, 4.599999999999998, 4.699999999999998, 4.799999999999999, 4.899999999999999, 4.999999999999999, 5.1, 5.2, 5.3, 5.4, 5.500000000000001]\n"
     ]
    },
    {
     "data": {
      "image/png": "[encoded data removed]",
      "text/plain": [
       "<Figure size 432x288 with 1 Axes>"
      ]
     },
     "metadata": {
      "needs_background": "light"
     },
     "output_type": "display_data"
    }
   ],
   "source": [
    "Energy0=8 \n",
    "voltage=0.0015 \n",
    "distance0=100000 \n",
    "dt=10 \n",
    "volt=[] \n",
    "prob=[] \n",
    "for i in range(40): \n",
    "    voltage+=0.0001 \n",
    "    volt+=[voltage] \n",
    "    prob+=[Probab(100)]\n",
    "print(prob) \n",
    "for i in range(len(volt)): \n",
    "    volt[i]*=1000\n",
    "print(volt) \n",
    "Graf(prob,volt)"
   ]
  },
  {
   "cell_type": "code",
   "execution_count": 129,
   "metadata": {},
   "outputs": [
    {
     "name": "stdout",
     "output_type": "stream",
     "text": [
      "[0.0, 0.0, 0.0, 0.0, 0.0, 0.0, 0.0, 0.0, 0.0, 0.03, 0.03, 0.11, 0.21, 0.24, 0.38, 0.42, 0.53, 0.62, 0.59, 0.77, 0.76, 0.73, 0.84, 0.85, 0.84, 0.89, 0.91, 0.91, 0.94, 0.97, 0.95, 0.94, 0.95, 0.96, 0.99, 0.96, 0.99, 1.0, 0.99, 0.99]\n",
      "[1.6, 1.7000000000000002, 1.8000000000000003, 1.9000000000000001, 2.0, 2.1, 2.1999999999999997, 2.2999999999999994, 2.3999999999999995, 2.499999999999999, 2.599999999999999, 2.699999999999999, 2.7999999999999985, 2.8999999999999986, 2.9999999999999982, 3.0999999999999983, 3.199999999999998, 3.2999999999999976, 3.3999999999999977, 3.4999999999999973, 3.5999999999999974, 3.699999999999997, 3.799999999999997, 3.899999999999997, 3.9999999999999964, 4.099999999999997, 4.1999999999999975, 4.299999999999997, 4.399999999999998, 4.499999999999998, 4.599999999999998, 4.699999999999998, 4.799999999999999, 4.899999999999999, 4.999999999999999, 5.1, 5.2, 5.3, 5.4, 5.500000000000001]\n"
     ]
    },
    {
     "data": {
      "image/png": "[encoded data removed]",
      "text/plain": [
       "<Figure size 432x288 with 1 Axes>"
      ]
     },
     "metadata": {
      "needs_background": "light"
     },
     "output_type": "display_data"
    }
   ],
   "source": [
    "Energy0=9 \n",
    "voltage=0.0015 \n",
    "distance0=100000 \n",
    "dt=10 \n",
    "volt=[] \n",
    "prob=[] \n",
    "for i in range(40): \n",
    "    voltage+=0.0001 \n",
    "    volt+=[voltage] \n",
    "    prob+=[Probab(100)]\n",
    "print(prob) \n",
    "for i in range(len(volt)): \n",
    "    volt[i]*=1000\n",
    "print(volt) \n",
    "Graf(prob,volt)"
   ]
  },
  {
   "cell_type": "code",
   "execution_count": null,
   "metadata": {},
   "outputs": [],
   "source": []
  },
  {
   "cell_type": "code",
   "execution_count": 130,
   "metadata": {},
   "outputs": [
    {
     "name": "stdout",
     "output_type": "stream",
     "text": [
      "[0.14, 0.66, 0.96, 0.96, 0.99, 1.0, 1.0, 1.0, 1.0, 1.0, 1.0, 1.0, 1.0, 1.0, 1.0, 1.0, 1.0, 1.0, 1.0, 1.0, 1.0, 1.0, 1.0, 1.0, 1.0, 1.0, 1.0, 1.0, 1.0, 1.0, 1.0, 1.0, 1.0, 1.0, 1.0, 1.0, 1.0, 1.0, 1.0, 1.0]\n",
      "[1.3, 1.4, 1.5, 1.6, 1.7000000000000002, 1.8000000000000003, 1.9000000000000001, 2.0, 2.1, 2.1999999999999997, 2.2999999999999994, 2.3999999999999995, 2.499999999999999, 2.599999999999999, 2.699999999999999, 2.7999999999999985, 2.8999999999999986, 2.9999999999999982, 3.0999999999999983, 3.199999999999998, 3.2999999999999976, 3.3999999999999977, 3.4999999999999973, 3.5999999999999974, 3.699999999999997, 3.799999999999997, 3.899999999999997, 3.9999999999999964, 4.099999999999997, 4.1999999999999975, 4.299999999999997, 4.399999999999998, 4.499999999999998, 4.599999999999998, 4.699999999999998, 4.799999999999999, 4.899999999999999, 4.999999999999999, 5.1, 5.2]\n"
     ]
    },
    {
     "data": {
      "image/png": "[encoded data removed]",
      "text/plain": [
       "<Figure size 432x288 with 1 Axes>"
      ]
     },
     "metadata": {
      "needs_background": "light"
     },
     "output_type": "display_data"
    }
   ],
   "source": [
    "Energy0=100 \n",
    "voltage=0.0012 \n",
    "distance0=100000 \n",
    "dt=10 \n",
    "volt=[] \n",
    "prob=[] \n",
    "for i in range(40): \n",
    "    voltage+=0.0001 \n",
    "    volt+=[voltage] \n",
    "    prob+=[Probab(100)]\n",
    "print(prob) \n",
    "for i in range(len(volt)): \n",
    "    volt[i]*=1000\n",
    "print(volt) \n",
    "Graf(prob,volt)"
   ]
  },
  {
   "cell_type": "code",
   "execution_count": null,
   "metadata": {},
   "outputs": [],
   "source": []
  },
  {
   "cell_type": "code",
   "execution_count": null,
   "metadata": {},
   "outputs": [],
   "source": [
    "#2 mv"
   ]
  },
  {
   "cell_type": "code",
   "execution_count": 131,
   "metadata": {},
   "outputs": [],
   "source": [
    "x=[2.1, 2.1999999999999997, 2.2999999999999994, 2.3999999999999995, 2.499999999999999, 2.599999999999999, 2.699999999999999, 2.7999999999999985, 2.8999999999999986, 2.9999999999999982, 3.0999999999999983, 3.199999999999998, 3.2999999999999976, 3.3999999999999977, 3.4999999999999973, 3.5999999999999974, 3.699999999999997, 3.799999999999997, 3.899999999999997, 3.9999999999999964, 4.099999999999997, 4.1999999999999975, 4.299999999999997, 4.399999999999998, 4.499999999999998, 4.599999999999998, 4.699999999999998, 4.799999999999999, 4.899999999999999, 4.999999999999999] \n",
    "y=[0.0, 0.0, 0.0, 0.0, 0.0, 0.0, 0.0, 0.0, 0.0, 0.0, 0.01, 0.0, 0.03, 0.05, 0.06, 0.17, 0.13, 0.19, 0.21, 0.28, 0.26, 0.32, 0.28, 0.39, 0.34, 0.37, 0.5, 0.44, 0.55, 0.48]"
   ]
  },
  {
   "cell_type": "code",
   "execution_count": 149,
   "metadata": {},
   "outputs": [],
   "source": [
    "import numpy as np\n",
    "import matplotlib.pyplot as plt\n",
    "from matplotlib import ticker\n",
    "def Graf2(x,y): \n",
    "    fig, ax = plt.subplots() \n",
    "    ax.plot(y, x, 'ro', markersize=5) \n",
    "    ay.plot(y, x, 'ro', markersize=5)\n",
    "    \n",
    "    \n",
    "    \n",
    "    #  Устанавливаем интервал основных делений:\n",
    "    ax.xaxis.set_major_locator(ticker.MultipleLocator(0.1))\n",
    "    #ax.xaxis.set_minor_locator(ticker.MultipleLocator(20))\n",
    "    \n",
    "    #ax.yaxis.set_major_locator(ticker.MultipleLocator(10))\n",
    "    #ax.yaxis.set_minor_locator(ticker.MultipleLocator(5))\n",
    "    #  Устанавливаем интервал вспомогательных делений:\n",
    "    #ax.xaxis.set_minor_locator(ticker.MultipleLocator(1))\n",
    "\n",
    "    #  Тоже самое проделываем с делениями на оси \"y\":\n",
    "    ay.yaxis.set_major_locator(ticker.MultipleLocator(0.1))\n",
    "    #ax.yaxis.set_minor_locator(ticker.MultipleLocator(0.01))\n",
    "    \n",
    "    #пределы x,y \n",
    "    #plt.xlim(0,900)  \n",
    "    fig.set_figwidth(12)\n",
    "    fig.set_figheight(10)\n",
    "    ax.plot(y, x, color = 'r', linewidth = 3)\n",
    "    ax.minorticks_on()\n",
    "    ax.grid(which='major',color = 'k') #сутка\n",
    "    # ax.grid(which='minor', color = 'gray',linestyle = ':')\n",
    "    #plt.xlim([0, 1500])\n",
    "    plt.ylim([0,1])\n",
    "    plt.show()"
   ]
  },
  {
   "cell_type": "code",
   "execution_count": 150,
   "metadata": {},
   "outputs": [
    {
     "ename": "NameError",
     "evalue": "name 'ay' is not defined",
     "output_type": "error",
     "traceback": [
      "\u001b[1;31m---------------------------------------------------------------------------\u001b[0m",
      "\u001b[1;31mNameError\u001b[0m                                 Traceback (most recent call last)",
      "\u001b[1;32m<ipython-input-150-65e06d5199ad>\u001b[0m in \u001b[0;36m<module>\u001b[1;34m\u001b[0m\n\u001b[1;32m----> 1\u001b[1;33m \u001b[0mGraf2\u001b[0m\u001b[1;33m(\u001b[0m\u001b[0my\u001b[0m\u001b[1;33m,\u001b[0m\u001b[0mx\u001b[0m\u001b[1;33m)\u001b[0m\u001b[1;33m\u001b[0m\u001b[1;33m\u001b[0m\u001b[0m\n\u001b[0m",
      "\u001b[1;32m<ipython-input-149-90b2597b3e46>\u001b[0m in \u001b[0;36mGraf2\u001b[1;34m(x, y)\u001b[0m\n\u001b[0;32m      5\u001b[0m     \u001b[0mfig\u001b[0m\u001b[1;33m,\u001b[0m \u001b[0max\u001b[0m \u001b[1;33m=\u001b[0m \u001b[0mplt\u001b[0m\u001b[1;33m.\u001b[0m\u001b[0msubplots\u001b[0m\u001b[1;33m(\u001b[0m\u001b[1;33m)\u001b[0m\u001b[1;33m\u001b[0m\u001b[1;33m\u001b[0m\u001b[0m\n\u001b[0;32m      6\u001b[0m     \u001b[0max\u001b[0m\u001b[1;33m.\u001b[0m\u001b[0mplot\u001b[0m\u001b[1;33m(\u001b[0m\u001b[0my\u001b[0m\u001b[1;33m,\u001b[0m \u001b[0mx\u001b[0m\u001b[1;33m,\u001b[0m \u001b[1;34m'ro'\u001b[0m\u001b[1;33m,\u001b[0m \u001b[0mmarkersize\u001b[0m\u001b[1;33m=\u001b[0m\u001b[1;36m5\u001b[0m\u001b[1;33m)\u001b[0m\u001b[1;33m\u001b[0m\u001b[1;33m\u001b[0m\u001b[0m\n\u001b[1;32m----> 7\u001b[1;33m     \u001b[0may\u001b[0m\u001b[1;33m.\u001b[0m\u001b[0mplot\u001b[0m\u001b[1;33m(\u001b[0m\u001b[0my\u001b[0m\u001b[1;33m,\u001b[0m \u001b[0mx\u001b[0m\u001b[1;33m,\u001b[0m \u001b[1;34m'ro'\u001b[0m\u001b[1;33m,\u001b[0m \u001b[0mmarkersize\u001b[0m\u001b[1;33m=\u001b[0m\u001b[1;36m5\u001b[0m\u001b[1;33m)\u001b[0m\u001b[1;33m\u001b[0m\u001b[1;33m\u001b[0m\u001b[0m\n\u001b[0m\u001b[0;32m      8\u001b[0m \u001b[1;33m\u001b[0m\u001b[0m\n\u001b[0;32m      9\u001b[0m \u001b[1;33m\u001b[0m\u001b[0m\n",
      "\u001b[1;31mNameError\u001b[0m: name 'ay' is not defined"
     ]
    },
    {
     "data": {
      "image/png": "[encoded data removed]",
      "text/plain": [
       "<Figure size 432x288 with 1 Axes>"
      ]
     },
     "metadata": {
      "needs_background": "light"
     },
     "output_type": "display_data"
    }
   ],
   "source": [
    "Graf2(y,x)"
   ]
  },
  {
   "cell_type": "code",
   "execution_count": null,
   "metadata": {},
   "outputs": [],
   "source": []
  }
 ],
 "metadata": {
  "kernelspec": {
   "display_name": "Python 3",
   "language": "python",
   "name": "python3"
  },
  "language_info": {
   "codemirror_mode": {
    "name": "ipython",
    "version": 3
   },
   "file_extension": ".py",
   "mimetype": "text/x-python",
   "name": "python",
   "nbconvert_exporter": "python",
   "pygments_lexer": "ipython3",
   "version": "3.8.5"
  }
 },
 "nbformat": 4,
 "nbformat_minor": 4
}

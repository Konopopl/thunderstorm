{
 "cells": [
  {
   "cell_type": "code",
   "execution_count": 43,
   "metadata": {},
   "outputs": [],
   "source": [
    "import numpy as np \n",
    "import random   \n",
    "import math \n",
    "\n",
    "#Energy0=100 #Mev \n",
    "#voltage= 0.0013 #Mev/cm\n",
    "#distance0=100000 #cm \n",
    "def MonteCarlo(Energy0,voltage,distance0,dt):# [Energy]=Mv,[Voltage]=(e-)*Mv/cm=Mv/cm,[distance0]=cm,[dt]=cm\n",
    "    hamma0=Energy0/0.511 \n",
    "    teta0=0.1661*(dt**0.5)/hamma0 \n",
    "    fi=random.uniform(0, 2*math.pi) \n",
    "\n",
    "    v1=[math.sin(teta0)*math.cos(fi),math.sin(teta0)*math.sin(fi),math.cos(teta0)] #если в нашу формулу подставить v0\n",
    "                                                                                   #вект. произв обнуляется \n",
    "    teta=teta0 \n",
    "    hamma=hamma0 \n",
    "    distance=distance0\n",
    "    v=v1 \n",
    "    Eneg=0.0022*dt \n",
    "    while True: \n",
    "        Epos=voltage*dt*np.dot([0,0,1],v) \n",
    "        \n",
    "        deltaE=(Epos-Eneg)/(0.511) \n",
    "        hamma=hamma+deltaE   \n",
    "        distance=distance-dt*np.dot([0,0,1],v) \n",
    "        if hamma<1: \n",
    "            s=0   \n",
    "            break \n",
    "\n",
    "        if distance<0: \n",
    "            s=1 \n",
    "            \n",
    "            break \n",
    "        teta=0.1661*(dt**0.5)/hamma \n",
    "        fi=random.uniform(0, 2*math.pi) \n",
    "        h=[math.sin(teta)*math.cos(fi),math.sin(teta)*math.sin(fi),math.cos(teta)]  \n",
    "        e3=v \n",
    "        e1=np.cross([0,0,1],e3) \n",
    "        e1=np.dot(1/((np.dot(e1, e1))**0.5), e1) \n",
    "        e2=np.cross(e1,e3) \n",
    "        e2=np.dot(1/((np.dot(e2, e2))**0.5), e2) \n",
    "        a=[e1,e2,e3]\n",
    "        v=np.dot(h,a)   \n",
    "        \n",
    "    return(s)"
   ]
  },
  {
   "cell_type": "code",
   "execution_count": null,
   "metadata": {},
   "outputs": [],
   "source": [
    "Energy0=100 #Mev \n",
    "voltage= 0.0012 #Mev/cm\n",
    "distance0=100000 #cm  \n",
    "dt=10 #cm   \n",
    "def Probab(number): \n",
    "    success=0 \n",
    "    failure=0 \n",
    "    for i in range(0,number): \n",
    "        if MonteCarlo(Energy0,voltage,distance0,dt)==1 : \n",
    "            success+=1 \n",
    "    return(success/number)   \n",
    "print(Probab(100))"
   ]
  },
  {
   "cell_type": "code",
   "execution_count": null,
   "metadata": {},
   "outputs": [],
   "source": [
    "Energy0=100 #Mev \n",
    "voltage= 0.0012 #Mev/cm\n",
    "distance0=100000 #cm  \n",
    "dt=10 #cm   \n",
    "def Probab(number): \n",
    "    success=0 \n",
    "    failure=0 \n",
    "    for i in range(0,number): \n",
    "        if MonteCarlo(Energy0,voltage,distance0,dt)==1 : \n",
    "            success+=1 \n",
    "    return(success/number)   \n",
    "print(Probab(100))"
   ]
  },
  {
   "cell_type": "code",
   "execution_count": null,
   "metadata": {},
   "outputs": [],
   "source": [
    "volt2=np.dot(1000, volt2) \n",
    "prob2=np.dot(100,prob2 )  \n",
    "print(volt2) \n",
    "print(prob2)  \n",
    "voltage=[1.29, 1.31, 1.33, 1.35, 1.37, 1.39, 1.41 ,1.43, 1.45,1.51, 1.53, 1.57, 1.61, 1.63 ,1.65 ,1.67] \n",
    "probable=[7.0, 21.0,  32.0,  41.0,  53.0,  58.0,  76.0,  84.0,  85.0,90.0 ,  94.0, 95.0,98.0,  98.0,  99.0 ,100.0]"
   ]
  },
  {
   "cell_type": "code",
   "execution_count": null,
   "metadata": {},
   "outputs": [],
   "source": [
    "import numpy as np\n",
    "import matplotlib.pyplot as plt \n",
    "def Graf(x,y): \n",
    "    fig, ax = plt.subplots() \n",
    "    plt.title(r\"probable(voltag)\")\n",
    "    plt.ylabel(u\"probable)\n",
    "    plt.xlabel(r\"[voltage]=Kv/cn\")\n",
    "\n",
    "    ax.plot(y, x,  linewidth = 3)\n",
    "    \n",
    "    #  Устанавливаем интервал основных делений:\n",
    "    #ax.xaxis.set_major_locator(ticker.MultipleLocator(0.05))\n",
    "    #  Устанавливаем интервал вспомогательных делений:\n",
    "    #ax.xaxis.set_minor_locator(ticker.MultipleLocator(1))\n",
    "\n",
    "    #  Тоже самое проделываем с делениями на оси \"y\":\n",
    "    #ay.yaxis.set_major_locator(ticker.MultipleLocator(50))\n",
    "    #ax.yaxis.set_minor_locator(ticker.MultipleLocator(10))\n",
    "    \n",
    "    #пределы x,y \n",
    "    #plt.xlim(0,900)  \n",
    "    fig.set_figwidth(10)\n",
    "    fig.set_figheight(10)\n",
    "    #ax.plot(y, x, color = 'r', linewidth = 3)\n",
    "    plt.show()"
   ]
  },
  {
   "cell_type": "code",
   "execution_count": null,
   "metadata": {},
   "outputs": [],
   "source": [
    "Graf(voltage,probable)"
   ]
  },
  {
   "cell_type": "code",
   "execution_count": null,
   "metadata": {},
   "outputs": [],
   "source": []
  },
  {
   "cell_type": "code",
   "execution_count": null,
   "metadata": {},
   "outputs": [],
   "source": []
  },
  {
   "cell_type": "code",
   "execution_count": null,
   "metadata": {},
   "outputs": [],
   "source": []
  }
 ],
 "metadata": {
  "kernelspec": {
   "display_name": "Python 3",
   "language": "python",
   "name": "python3"
  },
  "language_info": {
   "codemirror_mode": {
    "name": "ipython",
    "version": 3
   },
   "file_extension": ".py",
   "mimetype": "text/x-python",
   "name": "python",
   "nbconvert_exporter": "python",
   "pygments_lexer": "ipython3",
   "version": "3.8.5"
  }
 },
 "nbformat": 4,
 "nbformat_minor": 4
}
